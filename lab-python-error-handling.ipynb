{
 "cells": [
  {
   "cell_type": "markdown",
   "id": "25d7736c-ba17-4aff-b6bb-66eba20fbf4e",
   "metadata": {},
   "source": [
    "# Lab | Error Handling"
   ]
  },
  {
   "cell_type": "markdown",
   "id": "bc99b386-7508-47a0-bcdb-d969deaf6c8b",
   "metadata": {},
   "source": [
    "## Exercise: Error Handling for Managing Customer Orders\n",
    "\n",
    "The implementation of your code for managing customer orders assumes that the user will always enter a valid input. \n",
    "\n",
    "For example, we could modify the `initialize_inventory` function to include error handling.\n",
    "   - If the user enters an invalid quantity (e.g., a negative value or a non-numeric value), display an error message and ask them to re-enter the quantity for that product.\n",
    "   - Use a try-except block to handle the error and continue prompting the user until a valid quantity is entered.\n",
    "\n",
    "```python\n",
    "# Step 1: Define the function for initializing the inventory with error handling\n",
    "def initialize_inventory(products):\n",
    "    inventory = {}\n",
    "    for product in products:\n",
    "        valid_quantity = False\n",
    "        while not valid_quantity:\n",
    "            try:\n",
    "                quantity = int(input(f\"Enter the quantity of {product}s available: \"))\n",
    "                if quantity < 0:\n",
    "                    raise ValueError(\"Invalid quantity! Please enter a non-negative value.\")\n",
    "                valid_quantity = True\n",
    "            except ValueError as error:\n",
    "                print(f\"Error: {error}\")\n",
    "        inventory[product] = quantity\n",
    "    return inventory\n",
    "\n",
    "# Or, in another way:\n",
    "\n",
    "def initialize_inventory(products):\n",
    "    inventory = {}\n",
    "    for product in products:\n",
    "        valid_input = False\n",
    "        while not valid_input:\n",
    "            try:\n",
    "                quantity = int(input(f\"Enter the quantity of {product}s available: \"))\n",
    "                if quantity >= 0:\n",
    "                    inventory[product] = quantity\n",
    "                    valid_input = True\n",
    "                else:\n",
    "                    print(\"Quantity cannot be negative. Please enter a valid quantity.\")\n",
    "            except ValueError:\n",
    "                print(\"Invalid input. Please enter a valid quantity.\")\n",
    "    return inventory\n",
    "```\n",
    "\n",
    "Let's enhance your code by implementing error handling to handle invalid inputs.\n",
    "\n",
    "Follow the steps below to complete the exercise:\n",
    "\n",
    "2. Modify the `calculate_total_price` function to include error handling.\n",
    "   - If the user enters an invalid price (e.g., a negative value or a non-numeric value), display an error message and ask them to re-enter the price for that product.\n",
    "   - Use a try-except block to handle the error and continue prompting the user until a valid price is entered.\n",
    "\n",
    "3. Modify the `get_customer_orders` function to include error handling.\n",
    "   - If the user enters an invalid number of orders (e.g., a negative value or a non-numeric value), display an error message and ask them to re-enter the number of orders.\n",
    "   - If the user enters an invalid product name (e.g., a product name that is not in the inventory), or that doesn't have stock available, display an error message and ask them to re-enter the product name. *Hint: you will need to pass inventory as a parameter*\n",
    "   - Use a try-except block to handle the error and continue prompting the user until a valid product name is entered.\n",
    "\n",
    "4. Test your code by running the program and deliberately entering invalid quantities and product names. Make sure the error handling mechanism works as expected.\n"
   ]
  },
  {
   "cell_type": "code",
   "execution_count": 17,
   "id": "b709b807",
   "metadata": {},
   "outputs": [],
   "source": [
    "#arrastrado de labs anteriores\n",
    "products = [\"t-shirt\", \"mug\", \"hat\", \"book\", \"keychain\"]\n",
    "\n",
    "inventory={'t-shirt': 2, 'mug': 3, 'hat': 4, 'book': 5, 'keychain': 6}"
   ]
  },
  {
   "cell_type": "code",
   "execution_count": null,
   "id": "ad251ee7",
   "metadata": {},
   "outputs": [],
   "source": [
    "##arrastrado de labs anteriores\n",
    "def get_customer_orders():\n",
    "    customer_orders = set()\n",
    "    continue_ordering = True\n",
    "\n",
    "    while continue_ordering == True:\n",
    "        product = input(\"¿Qué producto quieres?:\")\n",
    "        if product not in inventory:\n",
    "            print(\"Ese producto no está disponible\")\n",
    "            continue\n",
    "\n",
    "        else:\n",
    "            customer_orders.add(product)\n",
    "        \n",
    "        another_product = input(\"Quieres pedir otro producto? (Si o No):\")\n",
    "        if another_product.lower() != \"si\":\n",
    "            continue_ordering = False\n",
    "    return customer_orders"
   ]
  },
  {
   "cell_type": "code",
   "execution_count": 4,
   "id": "0d7c7c6a",
   "metadata": {},
   "outputs": [
    {
     "name": "stdout",
     "output_type": "stream",
     "text": [
      "{'mug', 't-shirt'}\n"
     ]
    }
   ],
   "source": [
    "#arrastrado de labs anteriores\n",
    "customer_orders_glob=get_customer_orders()\n",
    "print(customer_orders_glob)"
   ]
  },
  {
   "cell_type": "code",
   "execution_count": 6,
   "id": "733cb739",
   "metadata": {},
   "outputs": [
    {
     "name": "stdout",
     "output_type": "stream",
     "text": [
      "22.0\n"
     ]
    }
   ],
   "source": [
    "#arrastrado de labs anteriores\n",
    "def calculate_total_price(customer_orders_glob) :\n",
    "    \"\"\"Calculate the total price of the customer order using dictionary comprehension.\"\"\"\n",
    "    prices = {products:float(input(f'Enter the price of {products}: ')) for products in customer_orders_glob}\n",
    "    return round(sum(prices.values()),2)\n",
    "total_price = calculate_total_price(customer_orders_glob)\n",
    "print(total_price)\n"
   ]
  },
  {
   "cell_type": "code",
   "execution_count": null,
   "id": "ccee156e",
   "metadata": {},
   "outputs": [
    {
     "name": "stdout",
     "output_type": "stream",
     "text": [
      "Please enter a valid number.\n",
      "Please enter a valid number.\n",
      "The price cannot be negative\n",
      "45.0\n"
     ]
    }
   ],
   "source": [
    "#2. Modify the `calculate_total_price` function to include error handling.\n",
    "   #- If the user enters an invalid price (e.g., a negative value or a non-numeric value), display an error message and ask them to re-enter the price for that product.\n",
    "   #- Use a try-except block to handle the error and continue prompting the user until a valid price is entered\n",
    "\n",
    "def calculate_total_price(customer_orders_glob):\n",
    "    \"\"\"Calculate the total price of the customer order using dictionary comprehension with error handling.\"\"\"\n",
    "    prices = {}\n",
    "\n",
    "    for product in customer_orders_glob:\n",
    "        while True:\n",
    "            try:\n",
    "                price = float(input(f\"Enter the price of {product}: \"))\n",
    "                assert price >= 0, \"The price cannot be negative\"\n",
    "                prices[product] = price\n",
    "                break  # Solo salimos si todo ha ido bien\n",
    "            except ValueError:\n",
    "                print(\"Please enter a valid number.\")\n",
    "            except AssertionError as e:\n",
    "                print(e)\n",
    "\n",
    "    return round(sum(prices.values()), 2)\n",
    "\n",
    "# Ejecución\n",
    "total_price = calculate_total_price(customer_orders_glob)\n",
    "print(total_price)"
   ]
  },
  {
   "cell_type": "code",
   "execution_count": 14,
   "id": "73e12fa2",
   "metadata": {},
   "outputs": [],
   "source": [
    "\n",
    "#3. Modify the `get_customer_orders` function to include error handling.\n",
    "   #- If the user enters an invalid number of orders (e.g., a negative value or a non-numeric value), display an error message and ask them to re-enter the number of orders.\n",
    "   #- If the user enters an invalid product name (e.g., a product name that is not in the inventory), or that doesn't have stock available, display an error message and ask them to re-enter the product name. *Hint: you will need to pass inventory as a parameter*\n",
    "   # Use a try-except block to handle the error and continue prompting the user until a valid product name is entered.\n",
    "\n",
    "def get_customer_orders(inventory):\n",
    "    customer_orders = {}\n",
    "\n",
    "    while True:\n",
    "        try:\n",
    "            product = input(\"¿Qué producto quieres?: \").lower()\n",
    "\n",
    "            if product not in inventory:\n",
    "                raise ValueError(\"Ese producto no está en el inventario.\")\n",
    "            if inventory[product] <= 0:\n",
    "                raise ValueError(\"No queda stock de ese producto.\")\n",
    "\n",
    "            # Añadir el producto al pedido\n",
    "            if product in customer_orders:\n",
    "                customer_orders[product] += 1\n",
    "            else:\n",
    "                customer_orders[product] = 1\n",
    "\n",
    "            # Restar del stock\n",
    "            inventory[product] -= 1\n",
    "\n",
    "            another = input(\"¿Quieres pedir otro producto? (Si o No): \").lower()\n",
    "            if another != \"si\":\n",
    "                break\n",
    "        except ValueError as e:\n",
    "            print(f\"Error: {e}\")\n",
    "\n",
    "    return customer_orders\n",
    "            "
   ]
  },
  {
   "cell_type": "code",
   "execution_count": 18,
   "id": "884eaf86",
   "metadata": {},
   "outputs": [
    {
     "name": "stdout",
     "output_type": "stream",
     "text": [
      "Error: Ese producto no está en el inventario.\n",
      "Error: Ese producto no está en el inventario.\n",
      "Error: No queda stock de ese producto.\n",
      "{'mug': 3, 'hat': 1}\n"
     ]
    }
   ],
   "source": [
    "print(get_customer_orders(inventory))"
   ]
  }
 ],
 "metadata": {
  "kernelspec": {
   "display_name": "venv",
   "language": "python",
   "name": "python3"
  },
  "language_info": {
   "codemirror_mode": {
    "name": "ipython",
    "version": 3
   },
   "file_extension": ".py",
   "mimetype": "text/x-python",
   "name": "python",
   "nbconvert_exporter": "python",
   "pygments_lexer": "ipython3",
   "version": "3.12.9"
  }
 },
 "nbformat": 4,
 "nbformat_minor": 5
}
